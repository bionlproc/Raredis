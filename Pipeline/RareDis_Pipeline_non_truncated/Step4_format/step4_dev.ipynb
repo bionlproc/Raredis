{
 "cells": [
  {
   "cell_type": "code",
   "execution_count": 11,
   "id": "ba4d0714",
   "metadata": {},
   "outputs": [],
   "source": [
    "import json"
   ]
  },
  {
   "cell_type": "code",
   "execution_count": 12,
   "id": "9bf277bb",
   "metadata": {},
   "outputs": [],
   "source": [
    "Path = '/Users/XA/Desktop/RareDis_Pipeline/Step3_remove_double_labels/dev_final_final.json'"
   ]
  },
  {
   "cell_type": "code",
   "execution_count": 13,
   "id": "fbd24644",
   "metadata": {},
   "outputs": [],
   "source": [
    "train = []\n",
    "for line in open(Path, 'r'):\n",
    "    train.append(json.loads(line))"
   ]
  },
  {
   "cell_type": "code",
   "execution_count": 14,
   "id": "cb800145",
   "metadata": {},
   "outputs": [],
   "source": [
    "for i in range(len(train)):\n",
    "    \n",
    "    train[i].pop('sentences')\n",
    "    train[i].pop('ner')"
   ]
  },
  {
   "cell_type": "code",
   "execution_count": 15,
   "id": "897c6fd6",
   "metadata": {},
   "outputs": [],
   "source": [
    "for i in range(len(train)):\n",
    "    \n",
    "    train[i]['sentences'] = train[i].pop('sentences_modified')\n",
    "    train[i]['ner'] = train[i].pop('ner_modified')"
   ]
  },
  {
   "cell_type": "code",
   "execution_count": 16,
   "id": "66882bc2",
   "metadata": {},
   "outputs": [
    {
     "name": "stdout",
     "output_type": "stream",
     "text": [
      "{'doc_key': 'Sporadic-Inclusion-Body-Myositis_dev0', 'relations': [[0, 3, 9, 12, 'Is_a'], [5, 5, 0, 3, 'Is_acron'], [36, 36, 40, 44, 'Produces'], [36, 36, 50, 53, 'Produces'], [71, 71, 74, 75, 'Is_a'], [71, 71, 87, 88, 'Anaphora'], [92, 92, 96, 97, 'Is_a']], 'sentences': ['Sporadic', 'inclusion', 'body', 'myositis', '(', 'sIBM', ')', 'is', 'an', 'acquired', 'progressive', 'muscle', 'disorder', 'that', 'becomes', 'apparent', 'during', 'adulthood', '.', 'The', 'symptoms', 'and', 'progression', 'of', 'sIBM', 'vary', 'from', 'one', 'person', 'to', 'another', '.', 'In', 'most', 'cases', ',', 'sIBM', 'is', 'characterized', 'by', 'progressive', 'weakness', 'of', 'the', 'muscles', 'and', 'degeneration', '(', 'atrophy', ')', 'atrophy', 'of', 'the', 'muscles', 'especially', 'those', 'of', 'the', 'arms', 'and', 'the', 'legs', '.', 'sIBM', 'can', 'progress', 'to', 'cause', 'severe', 'disability', '.', 'sIBM', 'is', 'an', 'autoimmune', 'disease', 'mediated', 'by', 'cytotoxic', 'T', 'cells', ',', 'but', 'the', 'exact', 'cause', 'of', 'the', 'disorder', 'is', 'unknown', '.', 'sIBM', ',', 'like', 'all', 'autoimmune', 'diseases', ',', 'is', 'a', 'complex', 'disorder', 'and', ',', 'most', 'likely', ',', 'multiple', 'factors', 'including', 'genetic', ',', 'immunological', 'and', 'environmental', 'ones', 'in', 'combination', 'all', 'play', 'a', 'role', 'in', 'its', 'development', '.'], 'ner': [[[0, 3], 'RAREDISEASE'], [[5, 5], 'RAREDISEASE'], [[9, 12], 'DISEASE'], [[24, 24], 'RAREDISEASE'], [[36, 36], 'RAREDISEASE'], [[40, 44], 'SIGN'], [[50, 53], 'SIGN'], [[63, 63], 'RAREDISEASE'], [[71, 71], 'RAREDISEASE'], [[74, 75], 'DISEASE'], [[87, 88], 'ANAPHOR'], [[92, 92], 'RAREDISEASE'], [[96, 97], 'DISEASE']]}\n"
     ]
    }
   ],
   "source": [
    "print(train[0])"
   ]
  },
  {
   "cell_type": "code",
   "execution_count": 17,
   "id": "c10bb04e",
   "metadata": {},
   "outputs": [
    {
     "name": "stdout",
     "output_type": "stream",
     "text": [
      "[0, 1, 'RAREDISEASE']\n"
     ]
    }
   ],
   "source": [
    "def flatten_list(nested_list):\n",
    "    flattened_list = []\n",
    "    for sublist in nested_list:\n",
    "        if isinstance(sublist, list):\n",
    "            flattened_list.extend(sublist)\n",
    "        else:\n",
    "            flattened_list.append(sublist)\n",
    "    return flattened_list\n",
    "\n",
    "nested_list = [[0, 1], 'RAREDISEASE']\n",
    "print(flatten_list(nested_list))"
   ]
  },
  {
   "cell_type": "code",
   "execution_count": 18,
   "id": "2558ed0f",
   "metadata": {},
   "outputs": [],
   "source": [
    "for i in range(len(train)):\n",
    "    for j in range(len(train[i]['ner'])):\n",
    "        train[i]['ner'][j] = flatten_list(train[i]['ner'][j])"
   ]
  },
  {
   "cell_type": "code",
   "execution_count": 19,
   "id": "acccf288",
   "metadata": {},
   "outputs": [
    {
     "name": "stdout",
     "output_type": "stream",
     "text": [
      "{'doc_key': 'Sporadic-Inclusion-Body-Myositis_dev0', 'relations': [[0, 3, 9, 12, 'Is_a'], [5, 5, 0, 3, 'Is_acron'], [36, 36, 40, 44, 'Produces'], [36, 36, 50, 53, 'Produces'], [71, 71, 74, 75, 'Is_a'], [71, 71, 87, 88, 'Anaphora'], [92, 92, 96, 97, 'Is_a']], 'sentences': ['Sporadic', 'inclusion', 'body', 'myositis', '(', 'sIBM', ')', 'is', 'an', 'acquired', 'progressive', 'muscle', 'disorder', 'that', 'becomes', 'apparent', 'during', 'adulthood', '.', 'The', 'symptoms', 'and', 'progression', 'of', 'sIBM', 'vary', 'from', 'one', 'person', 'to', 'another', '.', 'In', 'most', 'cases', ',', 'sIBM', 'is', 'characterized', 'by', 'progressive', 'weakness', 'of', 'the', 'muscles', 'and', 'degeneration', '(', 'atrophy', ')', 'atrophy', 'of', 'the', 'muscles', 'especially', 'those', 'of', 'the', 'arms', 'and', 'the', 'legs', '.', 'sIBM', 'can', 'progress', 'to', 'cause', 'severe', 'disability', '.', 'sIBM', 'is', 'an', 'autoimmune', 'disease', 'mediated', 'by', 'cytotoxic', 'T', 'cells', ',', 'but', 'the', 'exact', 'cause', 'of', 'the', 'disorder', 'is', 'unknown', '.', 'sIBM', ',', 'like', 'all', 'autoimmune', 'diseases', ',', 'is', 'a', 'complex', 'disorder', 'and', ',', 'most', 'likely', ',', 'multiple', 'factors', 'including', 'genetic', ',', 'immunological', 'and', 'environmental', 'ones', 'in', 'combination', 'all', 'play', 'a', 'role', 'in', 'its', 'development', '.'], 'ner': [[0, 3, 'RAREDISEASE'], [5, 5, 'RAREDISEASE'], [9, 12, 'DISEASE'], [24, 24, 'RAREDISEASE'], [36, 36, 'RAREDISEASE'], [40, 44, 'SIGN'], [50, 53, 'SIGN'], [63, 63, 'RAREDISEASE'], [71, 71, 'RAREDISEASE'], [74, 75, 'DISEASE'], [87, 88, 'ANAPHOR'], [92, 92, 'RAREDISEASE'], [96, 97, 'DISEASE']]}\n"
     ]
    }
   ],
   "source": [
    "print(train[0])"
   ]
  },
  {
   "cell_type": "code",
   "execution_count": 20,
   "id": "86e884d3",
   "metadata": {},
   "outputs": [],
   "source": [
    "for i in range(len(train)):\n",
    "    \n",
    "    train[i]['sentences'] = [train[i]['sentences']]\n",
    "    train[i]['ner'] = [train[i]['ner']]\n",
    "    train[i]['relations'] = [train[i]['relations']]"
   ]
  },
  {
   "cell_type": "code",
   "execution_count": 21,
   "id": "b6f8cb9f",
   "metadata": {},
   "outputs": [],
   "source": [
    "with open('dev.json', \"w\") as f_out:\n",
    "    for line in train:\n",
    "        f_out.write(json.dumps(line))\n",
    "        f_out.write('\\n')"
   ]
  }
 ],
 "metadata": {
  "kernelspec": {
   "display_name": "Python 3 (ipykernel)",
   "language": "python",
   "name": "python3"
  },
  "language_info": {
   "codemirror_mode": {
    "name": "ipython",
    "version": 3
   },
   "file_extension": ".py",
   "mimetype": "text/x-python",
   "name": "python",
   "nbconvert_exporter": "python",
   "pygments_lexer": "ipython3",
   "version": "3.9.12"
  }
 },
 "nbformat": 4,
 "nbformat_minor": 5
}
