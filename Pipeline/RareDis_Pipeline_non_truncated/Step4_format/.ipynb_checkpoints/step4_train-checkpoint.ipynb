{
 "cells": [
  {
   "cell_type": "code",
   "execution_count": 1,
   "id": "ba4d0714",
   "metadata": {},
   "outputs": [],
   "source": [
    "import json"
   ]
  },
  {
   "cell_type": "code",
   "execution_count": 2,
   "id": "9bf277bb",
   "metadata": {},
   "outputs": [],
   "source": [
    "Path = '/Users/XA/Desktop/RareDis_Pipeline/Step3_remove_double_labels/train_final_final.json'"
   ]
  },
  {
   "cell_type": "code",
   "execution_count": 3,
   "id": "fbd24644",
   "metadata": {},
   "outputs": [],
   "source": [
    "train = []\n",
    "for line in open(Path, 'r'):\n",
    "    train.append(json.loads(line))"
   ]
  },
  {
   "cell_type": "code",
   "execution_count": 4,
   "id": "cb800145",
   "metadata": {},
   "outputs": [],
   "source": [
    "for i in range(len(train)):\n",
    "    \n",
    "    train[i].pop('sentences')\n",
    "    train[i].pop('ner')"
   ]
  },
  {
   "cell_type": "code",
   "execution_count": 5,
   "id": "897c6fd6",
   "metadata": {},
   "outputs": [],
   "source": [
    "for i in range(len(train)):\n",
    "    \n",
    "    train[i]['sentences'] = train[i].pop('sentences_modified')\n",
    "    train[i]['ner'] = train[i].pop('ner_modified')"
   ]
  },
  {
   "cell_type": "code",
   "execution_count": 6,
   "id": "66882bc2",
   "metadata": {},
   "outputs": [
    {
     "name": "stdout",
     "output_type": "stream",
     "text": [
      "{'doc_key': 'Pediatric-Cardiomyopathy_train0', 'relations': [[0, 1, 5, 6, 'Is_a'], [60, 60, 53, 53, 'Produces'], [60, 60, 70, 77, 'Produces'], [60, 60, 79, 79, 'Produces'], [60, 60, 81, 82, 'Produces'], [60, 60, 89, 89, 'Produces'], [60, 60, 96, 97, 'Produces'], [60, 60, 99, 101, 'Produces']], 'sentences': ['Pediatric', 'cardiomyopathy', 'is', 'a', 'rare', 'heart', 'condition', 'that', 'affects', 'infants', 'and', 'children', '.', 'Specifically', ',', 'cardiomyopathy', 'means', 'disease', 'of', 'the', 'heart', 'muscle', '(', 'myocardium', ')', '.', 'Several', 'different', 'types', 'of', 'cardiomyopathy', 'exist', 'and', 'the', 'specific', 'symptoms', 'vary', 'from', 'person', 'to', 'person', '.', 'In', 'some', 'affected', 'individuals', ',', 'no', 'symptoms', 'may', 'be', 'present', '(', 'asymptomatic', ')', ';', 'in', 'many', 'people', ',', 'cardiomyopathy', 'is', 'a', 'progressive', 'condition', 'that', 'may', 'result', 'in', 'an', 'impaired', 'ability', 'of', 'the', 'heart', 'to', 'pump', 'blood', ';', 'fatigue', ';', 'heart', 'block', ';', 'irregular', 'or', 'rapid', 'heartbeats', '(', 'tachycardia', ')', ';', 'and', ',', 'potentially', ',', 'heart', 'failure', 'and', 'sudden', 'cardiac', 'death', '.'], 'ner': [[[0, 1], 'RAREDISEASE'], [[5, 6], 'DISEASE'], [[15, 15], 'DISEASE'], [[30, 30], 'DISEASE'], [[53, 53], 'SYMPTOM'], [[60, 60], 'DISEASE'], [[70, 77], 'SIGN'], [[79, 79], 'SYMPTOM'], [[81, 82], 'SIGN'], [[89, 89], 'SIGN'], [[96, 97], 'SIGN'], [[99, 101], 'SIGN']]}\n"
     ]
    }
   ],
   "source": [
    "print(train[0])"
   ]
  },
  {
   "cell_type": "code",
   "execution_count": 7,
   "id": "c10bb04e",
   "metadata": {},
   "outputs": [
    {
     "name": "stdout",
     "output_type": "stream",
     "text": [
      "[0, 1, 'RAREDISEASE']\n"
     ]
    }
   ],
   "source": [
    "def flatten_list(nested_list):\n",
    "    flattened_list = []\n",
    "    for sublist in nested_list:\n",
    "        if isinstance(sublist, list):\n",
    "            flattened_list.extend(sublist)\n",
    "        else:\n",
    "            flattened_list.append(sublist)\n",
    "    return flattened_list\n",
    "\n",
    "nested_list = [[0, 1], 'RAREDISEASE']\n",
    "print(flatten_list(nested_list))"
   ]
  },
  {
   "cell_type": "code",
   "execution_count": 8,
   "id": "2558ed0f",
   "metadata": {},
   "outputs": [],
   "source": [
    "for i in range(len(train)):\n",
    "    for j in range(len(train[i]['ner'])):\n",
    "        train[i]['ner'][j] = flatten_list(train[i]['ner'][j])"
   ]
  },
  {
   "cell_type": "code",
   "execution_count": 9,
   "id": "acccf288",
   "metadata": {},
   "outputs": [
    {
     "name": "stdout",
     "output_type": "stream",
     "text": [
      "{'doc_key': 'Pediatric-Cardiomyopathy_train0', 'relations': [[0, 1, 5, 6, 'Is_a'], [60, 60, 53, 53, 'Produces'], [60, 60, 70, 77, 'Produces'], [60, 60, 79, 79, 'Produces'], [60, 60, 81, 82, 'Produces'], [60, 60, 89, 89, 'Produces'], [60, 60, 96, 97, 'Produces'], [60, 60, 99, 101, 'Produces']], 'sentences': ['Pediatric', 'cardiomyopathy', 'is', 'a', 'rare', 'heart', 'condition', 'that', 'affects', 'infants', 'and', 'children', '.', 'Specifically', ',', 'cardiomyopathy', 'means', 'disease', 'of', 'the', 'heart', 'muscle', '(', 'myocardium', ')', '.', 'Several', 'different', 'types', 'of', 'cardiomyopathy', 'exist', 'and', 'the', 'specific', 'symptoms', 'vary', 'from', 'person', 'to', 'person', '.', 'In', 'some', 'affected', 'individuals', ',', 'no', 'symptoms', 'may', 'be', 'present', '(', 'asymptomatic', ')', ';', 'in', 'many', 'people', ',', 'cardiomyopathy', 'is', 'a', 'progressive', 'condition', 'that', 'may', 'result', 'in', 'an', 'impaired', 'ability', 'of', 'the', 'heart', 'to', 'pump', 'blood', ';', 'fatigue', ';', 'heart', 'block', ';', 'irregular', 'or', 'rapid', 'heartbeats', '(', 'tachycardia', ')', ';', 'and', ',', 'potentially', ',', 'heart', 'failure', 'and', 'sudden', 'cardiac', 'death', '.'], 'ner': [[0, 1, 'RAREDISEASE'], [5, 6, 'DISEASE'], [15, 15, 'DISEASE'], [30, 30, 'DISEASE'], [53, 53, 'SYMPTOM'], [60, 60, 'DISEASE'], [70, 77, 'SIGN'], [79, 79, 'SYMPTOM'], [81, 82, 'SIGN'], [89, 89, 'SIGN'], [96, 97, 'SIGN'], [99, 101, 'SIGN']]}\n"
     ]
    }
   ],
   "source": [
    "print(train[0])"
   ]
  },
  {
   "cell_type": "code",
   "execution_count": 10,
   "id": "b6f8cb9f",
   "metadata": {},
   "outputs": [],
   "source": [
    "with open('train.json', \"w\") as f_out:\n",
    "    for line in train:\n",
    "        f_out.write(json.dumps(line))\n",
    "        f_out.write('\\n')"
   ]
  }
 ],
 "metadata": {
  "kernelspec": {
   "display_name": "Python 3 (ipykernel)",
   "language": "python",
   "name": "python3"
  },
  "language_info": {
   "codemirror_mode": {
    "name": "ipython",
    "version": 3
   },
   "file_extension": ".py",
   "mimetype": "text/x-python",
   "name": "python",
   "nbconvert_exporter": "python",
   "pygments_lexer": "ipython3",
   "version": "3.9.12"
  }
 },
 "nbformat": 4,
 "nbformat_minor": 5
}
